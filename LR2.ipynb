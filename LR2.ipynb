{
 "cells": [
  {
   "cell_type": "code",
   "execution_count": 1,
   "metadata": {},
   "outputs": [],
   "source": [
    "import pandas as pd"
   ]
  },
  {
   "cell_type": "markdown",
   "metadata": {},
   "source": [
    "# Задание №1"
   ]
  },
  {
   "cell_type": "code",
   "execution_count": 2,
   "metadata": {},
   "outputs": [
    {
     "data": {
      "text/html": [
       "<div>\n",
       "<style scoped>\n",
       "    .dataframe tbody tr th:only-of-type {\n",
       "        vertical-align: middle;\n",
       "    }\n",
       "\n",
       "    .dataframe tbody tr th {\n",
       "        vertical-align: top;\n",
       "    }\n",
       "\n",
       "    .dataframe thead th {\n",
       "        text-align: right;\n",
       "    }\n",
       "</style>\n",
       "<table border=\"1\" class=\"dataframe\">\n",
       "  <thead>\n",
       "    <tr style=\"text-align: right;\">\n",
       "      <th></th>\n",
       "      <th>movieId</th>\n",
       "      <th>title</th>\n",
       "      <th>genres</th>\n",
       "    </tr>\n",
       "  </thead>\n",
       "  <tbody>\n",
       "    <tr>\n",
       "      <th>0</th>\n",
       "      <td>1</td>\n",
       "      <td>Toy Story (1995)</td>\n",
       "      <td>Adventure|Animation|Children|Comedy|Fantasy</td>\n",
       "    </tr>\n",
       "    <tr>\n",
       "      <th>1</th>\n",
       "      <td>2</td>\n",
       "      <td>Jumanji (1995)</td>\n",
       "      <td>Adventure|Children|Fantasy</td>\n",
       "    </tr>\n",
       "    <tr>\n",
       "      <th>2</th>\n",
       "      <td>3</td>\n",
       "      <td>Grumpier Old Men (1995)</td>\n",
       "      <td>Comedy|Romance</td>\n",
       "    </tr>\n",
       "    <tr>\n",
       "      <th>3</th>\n",
       "      <td>4</td>\n",
       "      <td>Waiting to Exhale (1995)</td>\n",
       "      <td>Comedy|Drama|Romance</td>\n",
       "    </tr>\n",
       "    <tr>\n",
       "      <th>4</th>\n",
       "      <td>5</td>\n",
       "      <td>Father of the Bride Part II (1995)</td>\n",
       "      <td>Comedy</td>\n",
       "    </tr>\n",
       "  </tbody>\n",
       "</table>\n",
       "</div>"
      ],
      "text/plain": [
       "   movieId                               title  \\\n",
       "0        1                    Toy Story (1995)   \n",
       "1        2                      Jumanji (1995)   \n",
       "2        3             Grumpier Old Men (1995)   \n",
       "3        4            Waiting to Exhale (1995)   \n",
       "4        5  Father of the Bride Part II (1995)   \n",
       "\n",
       "                                        genres  \n",
       "0  Adventure|Animation|Children|Comedy|Fantasy  \n",
       "1                   Adventure|Children|Fantasy  \n",
       "2                               Comedy|Romance  \n",
       "3                         Comedy|Drama|Romance  \n",
       "4                                       Comedy  "
      ]
     },
     "execution_count": 2,
     "metadata": {},
     "output_type": "execute_result"
    }
   ],
   "source": [
    "rating = pd.read_csv('ratings.csv')\n",
    "movies = pd.read_csv('movies.csv')\n",
    "movies.head()"
   ]
  },
  {
   "cell_type": "code",
   "execution_count": 3,
   "metadata": {},
   "outputs": [
    {
     "data": {
      "text/plain": [
       "277    Shawshank Redemption, The (1994)\n",
       "Name: title, dtype: object"
      ]
     },
     "execution_count": 3,
     "metadata": {},
     "output_type": "execute_result"
    }
   ],
   "source": [
    "rating_sort = rating [ (rating['rating'] == 5.0)]\n",
    "rating_sort['movieId'].value_counts(normalize=True).head()\n",
    "movies[movies['movieId'] == 318]['title'].head()"
   ]
  },
  {
   "cell_type": "markdown",
   "metadata": {},
   "source": [
    "# Задание №2"
   ]
  },
  {
   "cell_type": "code",
   "execution_count": 4,
   "metadata": {},
   "outputs": [
    {
     "data": {
      "text/html": [
       "<div>\n",
       "<style scoped>\n",
       "    .dataframe tbody tr th:only-of-type {\n",
       "        vertical-align: middle;\n",
       "    }\n",
       "\n",
       "    .dataframe tbody tr th {\n",
       "        vertical-align: top;\n",
       "    }\n",
       "\n",
       "    .dataframe thead th {\n",
       "        text-align: right;\n",
       "    }\n",
       "</style>\n",
       "<table border=\"1\" class=\"dataframe\">\n",
       "  <thead>\n",
       "    <tr style=\"text-align: right;\">\n",
       "      <th></th>\n",
       "      <th>country</th>\n",
       "      <th>year</th>\n",
       "      <th>quantity</th>\n",
       "      <th>category</th>\n",
       "    </tr>\n",
       "  </thead>\n",
       "  <tbody>\n",
       "    <tr>\n",
       "      <th>0</th>\n",
       "      <td>Austria</td>\n",
       "      <td>1996</td>\n",
       "      <td>5.0</td>\n",
       "      <td>1</td>\n",
       "    </tr>\n",
       "    <tr>\n",
       "      <th>1</th>\n",
       "      <td>Austria</td>\n",
       "      <td>1995</td>\n",
       "      <td>17.0</td>\n",
       "      <td>1</td>\n",
       "    </tr>\n",
       "    <tr>\n",
       "      <th>2</th>\n",
       "      <td>Belgium</td>\n",
       "      <td>2014</td>\n",
       "      <td>0.0</td>\n",
       "      <td>1</td>\n",
       "    </tr>\n",
       "    <tr>\n",
       "      <th>3</th>\n",
       "      <td>Belgium</td>\n",
       "      <td>2013</td>\n",
       "      <td>0.0</td>\n",
       "      <td>1</td>\n",
       "    </tr>\n",
       "    <tr>\n",
       "      <th>4</th>\n",
       "      <td>Belgium</td>\n",
       "      <td>2012</td>\n",
       "      <td>35.0</td>\n",
       "      <td>1</td>\n",
       "    </tr>\n",
       "  </tbody>\n",
       "</table>\n",
       "</div>"
      ],
      "text/plain": [
       "   country  year  quantity  category\n",
       "0  Austria  1996       5.0         1\n",
       "1  Austria  1995      17.0         1\n",
       "2  Belgium  2014       0.0         1\n",
       "3  Belgium  2013       0.0         1\n",
       "4  Belgium  2012      35.0         1"
      ]
     },
     "execution_count": 4,
     "metadata": {},
     "output_type": "execute_result"
    }
   ],
   "source": [
    "df = pd.read_csv('power.csv')\n",
    "df.head()"
   ]
  },
  {
   "cell_type": "code",
   "execution_count": 5,
   "metadata": {},
   "outputs": [
    {
     "data": {
      "text/plain": [
       "118284.0"
      ]
     },
     "execution_count": 5,
     "metadata": {},
     "output_type": "execute_result"
    }
   ],
   "source": [
    "fc = df[ (df['country']=='Latvia') | (df['country']=='Litva') | (df['country']=='Estonia') ]\n",
    "fc1 = fc[ (fc['category']==4) | (fc['category']==12) | (fc['category']==21) ]\n",
    "fc2 = fc1[ (fc1['year'] <= 2010) & (fc1['year'] >= 2005)]\n",
    "fc3 = fc2[ (fc2['quantity'] >= 0)]\n",
    "fc3['quantity'].sum()"
   ]
  },
  {
   "cell_type": "markdown",
   "metadata": {},
   "source": [
    "# Задание №3"
   ]
  },
  {
   "cell_type": "code",
   "execution_count": 6,
   "metadata": {},
   "outputs": [],
   "source": [
    "page_url = 'https://smart-lab.ru/q/shares/'\n",
    "df1 = pd.read_html(page_url, attrs = {'class': 'simple-little-table trades-table'}, encoding='utf-8')"
   ]
  },
  {
   "cell_type": "code",
   "execution_count": 7,
   "metadata": {},
   "outputs": [
    {
     "data": {
      "text/plain": [
       "[         № Unnamed: 1     Название  Тикер  Unnamed: 4  Unnamed: 5  Цена, посл  \\\n",
       " 0      NaN   13:47:00  Индекс ММВБ  IMOEX         NaN         NaN     2902.65   \n",
       " 1      1.0   13:31:58     Сбербанк   SBER         NaN         NaN      228.42   \n",
       " 2      2.0   13:31:58   ГАЗПРОМ ао   GAZP         NaN         NaN      179.72   \n",
       " 3      3.0   13:31:58       ЛУКОЙЛ   LKOH         NaN         NaN     4538.00   \n",
       " 4      4.0   13:31:54   Yandex clA   YNDX         NaN         NaN     4574.80   \n",
       " ..     ...        ...          ...    ...         ...         ...         ...   \n",
       " 269  269.0   10:00:13   КосогМЗ ао   KMTZ         NaN         NaN         NaN   \n",
       " 270  270.0   10:00:13    Физика ао   NPOF         NaN         NaN         NaN   \n",
       " 271  271.0   10:00:13   ГАЗ-Тек ао   GAZT         NaN         NaN         NaN   \n",
       " 272  272.0   10:00:13   Уркалий-ао   URKA         NaN         NaN         NaN   \n",
       " 273  273.0   10:00:12    ТАНТАЛ ап  TANLP         NaN         NaN         NaN   \n",
       " \n",
       "      Изм, % Объем, млн руб 1 нед, %  1 м, %  ytd, %  12м, % Капит-я млрд руб  \\\n",
       " 0    +1.36%      36 077.39    -2.6%   -3.1%   -4.7%   +3.8%        46 070.85   \n",
       " 1    +0.96%       5 958.66    -1.1%   -1.0%  -10.3%   -1.5%         5 175.62   \n",
       " 2    +1.44%       3 483.60    -1.7%   -2.4%  -29.9%  -22.0%         4 261.23   \n",
       " 3     +0.6%       3 375.35    -6.8%  -10.8%  -26.4%  -17.3%         3 137.99   \n",
       " 4    +1.04%       2 407.99    -3.2%   -3.8%  +69.6%  +94.7%         1 455.93   \n",
       " ..      ...            ...      ...     ...     ...     ...              ...   \n",
       " 269      0%            NaN      NaN     NaN     NaN     NaN              NaN   \n",
       " 270      0%            NaN      NaN     NaN     NaN     NaN             1.07   \n",
       " 271      0%            NaN      NaN     NaN     NaN     NaN            40.07   \n",
       " 272      0%            NaN      NaN     NaN     NaN     NaN           151.01   \n",
       " 273      0%            NaN      NaN     NaN     NaN     NaN             0.21   \n",
       " \n",
       "      Капит-я млрд $ ИзмОбъема Изм позпо Объему Unnamed: 17 Unnamed: 18  \n",
       " 0            604.04       -1%                —           —           —  \n",
       " 1             67.86      -12%              NaN           +           +  \n",
       " 2             55.87       -4%              NaN           +           +  \n",
       " 3             41.14       -4%              NaN           +           +  \n",
       " 4             19.09      +81%               +2           +           +  \n",
       " ..              ...       ...              ...         ...         ...  \n",
       " 269             NaN       NaN              NaN           +           +  \n",
       " 270            0.01       NaN              NaN           +           +  \n",
       " 271            0.53       NaN              NaN           +           +  \n",
       " 272            1.98       NaN              NaN           +           +  \n",
       " 273            0.00       NaN              NaN           +           +  \n",
       " \n",
       " [274 rows x 19 columns]]"
      ]
     },
     "execution_count": 7,
     "metadata": {},
     "output_type": "execute_result"
    }
   ],
   "source": [
    "df1[:2]"
   ]
  },
  {
   "cell_type": "code",
   "execution_count": null,
   "metadata": {},
   "outputs": [],
   "source": []
  }
 ],
 "metadata": {
  "kernelspec": {
   "display_name": "Python 3",
   "language": "python",
   "name": "python3"
  },
  "language_info": {
   "codemirror_mode": {
    "name": "ipython",
    "version": 3
   },
   "file_extension": ".py",
   "mimetype": "text/x-python",
   "name": "python",
   "nbconvert_exporter": "python",
   "pygments_lexer": "ipython3",
   "version": "3.8.3"
  }
 },
 "nbformat": 4,
 "nbformat_minor": 4
}
